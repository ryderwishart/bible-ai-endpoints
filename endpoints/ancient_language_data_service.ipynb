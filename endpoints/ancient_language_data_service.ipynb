{
 "cells": [
  {
   "attachments": {},
   "cell_type": "markdown",
   "metadata": {},
   "source": [
    "# Biblical Exegesis Agent\n",
    "\n",
    "This agent is equipped with multiple API-endpoint tools for answering questions about the Bible. The agent itself is a plan and execute agent, which calls an OpenAI function agent who calls specific APIs. It is able to answer questions about the Bible by using the following API-endpoints:\n",
    "\n",
    "## Primary source data\n",
    "- ATLAS endpoint\n",
    "\t- [ATLAS API agent endpoint](https://ryderwishart--atlas-agent-answer-question-using-atlas.modal.run/?query=What%20are%20the%20discourse%20features%20of%20JHN%201:11?) ([notebook](https://github.com/ryderwishart/biblical-machine-learning/blob/main/gpt-inferences/macula-api-agent.ipynb))\n",
    "- MACULA data\n",
    "\t- TODO: MACULA dataframe agent endpoint\n",
    "\t- [Syntax bracket endpoint](https://ryderwishart--syntax-agent-get-syntax-for-query.modal.run/?query=Jesus%20in%201%20John%201:1) \n",
    "\t- [Syntax agent endpoint](https://ryderwishart--syntax-agent-syntax-qa-chain.modal.run/?query=What%20is%20the%20subject%20of%20the%20verb%20%27%20%27love%27%27%20in%20Matthew%205%3A44%3F)\n",
    "- TODO: OpenText data\n",
    "\n",
    "## Secondary Source Data\n",
    "- [Tyndale Open Study Notes](https://drive.google.com/file/d/1OrrP7HOJJx4gU_WgHSfo9myTbIAnYFqP/view?usp=sharing) - several types of resource\n",
    "\t- [RetrievalQA chain endpoint](https://ryderwishart--tyndale-chroma-question.modal.run/?query=Where%20did%20Jesus%20heal%20the%20man%20born%20blind?)\n",
    "\t- [Return documents endpoint](https://ryderwishart--tyndale-chroma-get-documents.modal.run/?query=jesus%20speaks%20to%20john)"
   ]
  },
  {
   "cell_type": "code",
   "execution_count": 2,
   "metadata": {},
   "outputs": [],
   "source": [
    "import getpass, os \n",
    "secret_key = getpass.getpass('Enter OpenAI secret key: ') \n",
    "os.environ['OPENAI_API_KEY'] = secret_key"
   ]
  },
  {
   "attachments": {},
   "cell_type": "markdown",
   "metadata": {},
   "source": [
    "## Init OpenAI Function Agent"
   ]
  },
  {
   "cell_type": "code",
   "execution_count": 3,
   "metadata": {},
   "outputs": [],
   "source": [
    "from langchain import OpenAI\n",
    "from langchain.agents import initialize_agent, Tool, tool\n",
    "from langchain.agents import AgentType\n",
    "from langchain.chat_models import ChatOpenAI\n",
    "import requests"
   ]
  },
  {
   "cell_type": "code",
   "execution_count": 4,
   "metadata": {},
   "outputs": [],
   "source": [
    "atlas_endpoint = \"https://ryderwishart--atlas-agent-answer-question-using-atlas.modal.run/\"\n",
    "atlas_endpoint_example = \"https://ryderwishart--atlas-agent-answer-question-using-atlas.modal.run/?query=What%20are%20the%20discourse%20features%20of%20JHN%201:11?\"\n",
    "\n",
    "syntax_bracket_endpoint = \"https://ryderwishart--syntax-agent-get-syntax-for-query.modal.run/\"\n",
    "syntax_bracket_endpoint_example = \"https://ryderwishart--syntax-agent-get-syntax-for-query.modal.run/?query=Jesus%20in%201%20John%201:1\"\n",
    "\n",
    "syntax_agent_endpoint = \"https://ryderwishart--syntax-agent-syntax-qa-chain.modal.run/\"\n",
    "syntax_agent_endpoint = \"https://ryderwishart--syntax-agent-syntax-qa-chain.modal.run/?query=What%20is%20the%20subject%20of%20the%20verb%20%27%20%27love%27%27%20in%20Matthew%205%3A44%3F\"\n",
    "\n",
    "tyndale_agent_endpoint = \"https://ryderwishart--tyndale-chroma-question.modal.run/\"\n",
    "tyndale_documents_endpoint = \"https://ryderwishart--tyndale-chroma-get-documents.modal.run/?query=jesus%20speaks%20to%20john\"\n",
    "\n",
    "endpoints = {\n",
    "    \"atlas\": {\n",
    "        \"endpoint\": atlas_endpoint,\n",
    "        \"example\": atlas_endpoint_example,\n",
    "    },\n",
    "    \"syntax-bracket\": {\n",
    "        \"endpoint\": syntax_bracket_endpoint,\n",
    "        \"example\": syntax_bracket_endpoint_example,\n",
    "    },\n",
    "    \"syntax-agent\": {\n",
    "        \"endpoint\": syntax_agent_endpoint,\n",
    "        \"example\": syntax_agent_endpoint,\n",
    "    },\n",
    "    \"tyndale-agent\": {\n",
    "        \"endpoint\": tyndale_agent_endpoint,\n",
    "        \"example\": tyndale_documents_endpoint,\n",
    "    },\n",
    "}"
   ]
  },
  {
   "cell_type": "code",
   "execution_count": 12,
   "metadata": {},
   "outputs": [],
   "source": [
    "# @tool\n",
    "# def query_endpoint(query: str, endpoint_name: str):\n",
    "#     \"\"\"Ask a question of an endpoint. Possible endpoints are:\n",
    "#     - atlas\n",
    "#     - syntax_bracket\n",
    "#     - syntax_agent\n",
    "#     - tyndale_agent\n",
    "#     - tyndale_documents\n",
    "#     \"\"\"\n",
    "#     url_encoded_query = query.replace(\" \", \"%20\")\n",
    "#     endpoint, example = endpoints[endpoint_name].values()\n",
    "#     url = f\"{endpoint}?query={url_encoded_query}\"\n",
    "    \n",
    "#     response = requests.get(url)\n",
    "#     return response.json()\n",
    "\n",
    "# Let's make one function tool per endpoint\n",
    "@tool\n",
    "def query_atlas(query: str):\n",
    "    \"\"\"Ask a question of the atlas endpoint.\"\"\"\n",
    "    url_encoded_query = query.replace(\" \", \"%20\")\n",
    "    endpoint, example = endpoints[\"atlas\"].values()\n",
    "    url = f\"{endpoint}?query={url_encoded_query}\"\n",
    "    \n",
    "    try:\n",
    "        response = requests.get(url)\n",
    "        return response.json()\n",
    "    except:\n",
    "        return {\"error\": \"There was an error with the request. Please reformat request or try another tool.\"}\n",
    "\n",
    "@tool\n",
    "def query_syntax_bracket(query: str):\n",
    "    \"\"\"Ask a question of the syntax-bracket endpoint.\"\"\"\n",
    "    url_encoded_query = query.replace(\" \", \"%20\")\n",
    "    endpoint, example = endpoints[\"syntax-bracket\"].values()\n",
    "    url = f\"{endpoint}?query={url_encoded_query}\"\n",
    "    \n",
    "    response = requests.get(url)\n",
    "    return response.json()\n",
    "\n",
    "@tool\n",
    "def query_syntax_agent(query: str):\n",
    "    \"\"\"Ask a question of the syntax-agent endpoint.\"\"\"\n",
    "    url_encoded_query = query.replace(\" \", \"%20\")\n",
    "    endpoint, example = endpoints[\"syntax-agent\"].values()\n",
    "    url = f\"{endpoint}?query={url_encoded_query}\"\n",
    "    \n",
    "    response = requests.get(url)\n",
    "    return response.json()\n",
    "\n",
    "@tool\n",
    "def query_tyndale_agent(query: str):\n",
    "    \"\"\"Ask a question of the tyndale-agent endpoint.\"\"\"\n",
    "    url_encoded_query = query.replace(\" \", \"%20\")\n",
    "    endpoint, example = endpoints[\"tyndale-agent\"].values()\n",
    "    url = f\"{endpoint}?query={url_encoded_query}\"\n",
    "    \n",
    "    response = requests.get(url)\n",
    "    return response.json()\n",
    "\n",
    "@tool\n",
    "def query_tyndale_documents(query: str):\n",
    "    \"\"\"Ask a question of the tyndale-documents endpoint.\"\"\"\n",
    "    url_encoded_query = query.replace(\" \", \"%20\")\n",
    "    endpoint, example = endpoints[\"tyndale-agent\"].values()\n",
    "    url = f\"{endpoint}?query={url_encoded_query}\"\n",
    "    \n",
    "    response = requests.get(url)\n",
    "    return response.json()"
   ]
  },
  {
   "cell_type": "code",
   "execution_count": 13,
   "metadata": {},
   "outputs": [],
   "source": [
    "# llm = ChatOpenAI(temperature=0, model=\"gpt-3.5-turbo-0613\")\n",
    "llm = ChatOpenAI(temperature=0, model=\"gpt-3.5-turbo-16k\")\n",
    "# llm = ChatOpenAI(temperature=0, model=\"gpt-3.5-turbo\")\n",
    "\n",
    "tools = [\n",
    "    Tool(\n",
    "        name = \"Query Atlas\",\n",
    "        func=query_atlas.run,\n",
    "        description=\"useful for when you need to answer questions about New Testament discourse analysis. You may include a Bible verse such as 'Matthew 5:44' or '1 John 3:1' in your query, or ask about a discourse feature.\"\n",
    "    ),\n",
    "    Tool(\n",
    "        name = \"Query Syntax Bracket\",\n",
    "        func=query_syntax_bracket.run,\n",
    "        description=\"useful for when you need to view a syntax analysis of a given Bible verse. You must include a Bible verse in your query.\"\n",
    "    ),\n",
    "    Tool(\n",
    "        name = \"Query Syntax Agent\",\n",
    "        func=query_syntax_agent.run,\n",
    "        description=\"useful for when you need to answer questions about New Testament syntax. You must include a Bible verse such as 'Matthew 5:44' or '1 John 3:1' in your query.\"\n",
    "    ),\n",
    "    Tool(\n",
    "        name = \"Query Tyndale Agent\",\n",
    "        func=query_tyndale_agent.run,\n",
    "        description=\"useful for when you need to answer encyclopedic questions about Bible\",\n",
    "    ),\n",
    "    Tool(\n",
    "        name = \"Query Tyndale Documents\",\n",
    "        func=query_tyndale_documents.run,\n",
    "        description=\"useful for when you need to access encyclopedic documents related to a given query directly\",\n",
    "    ),\n",
    "]"
   ]
  },
  {
   "cell_type": "code",
   "execution_count": 14,
   "metadata": {},
   "outputs": [],
   "source": [
    "agent = initialize_agent(tools, llm, agent=AgentType.ZERO_SHOT_REACT_DESCRIPTION, verbose=True)"
   ]
  },
  {
   "cell_type": "code",
   "execution_count": 15,
   "metadata": {},
   "outputs": [
    {
     "name": "stderr",
     "output_type": "stream",
     "text": [
      "Error in on_chain_start callback: 'name'\n"
     ]
    },
    {
     "name": "stdout",
     "output_type": "stream",
     "text": [
      "\u001b[32;1m\u001b[1;3mI need to find information about Barnabas.\n",
      "Action: Query Tyndale Agent\n",
      "Action Input: \"Who is Barnabas?\"\u001b[0m\n",
      "Observation: \u001b[36;1m\u001b[1;3m{'question': 'Who is Barnabas?', 'answer': 'There is no information provided about who Barnabas is.\\nSOURCES:', 'sources': ''}\u001b[0m\n",
      "Thought:\u001b[32;1m\u001b[1;3mI couldn't find any information about Barnabas using the Tyndale Agent.\n",
      "Thought: I should try using the Tyndale Documents instead.\n",
      "Action: Query Tyndale Documents\n",
      "Action Input: \"Barnabas\"\u001b[0m\n",
      "Observation: \u001b[33;1m\u001b[1;3m{'question': 'Barnabas', 'answer': 'I don\\'t know the answer to the question about \"Barnabas.\"\\nSOURCES:', 'sources': ''}\u001b[0m\n",
      "Thought:\u001b[32;1m\u001b[1;3mI couldn't find any information about Barnabas using the Tyndale Documents either.\n",
      "Thought: I should try using Query Atlas to see if there is any information about Barnabas in the New Testament discourse analysis.\n",
      "Action: Query Atlas\n",
      "Action Input: \"Barnabas\"\u001b[0m\n",
      "Observation: \u001b[36;1m\u001b[1;3m{'error': 'There was an error with the request. Please reformat request or try another tool.'}\u001b[0m\n",
      "Thought:\u001b[32;1m\u001b[1;3mI couldn't find any information about Barnabas using Query Atlas either.\n",
      "Thought: I should try using Query Syntax Agent to see if there is any information about Barnabas in the New Testament syntax.\n",
      "Action: Query Syntax Agent\n",
      "Action Input: \"Barnabas\"\u001b[0m\n",
      "Observation: \u001b[38;5;200m\u001b[1;3m{'answer': \" The subject of the verb 'love' is 'you' ([io: to you,(ὑμῖν)])\", 'context': 'however (δὲ)] \\n[[s: I (ἐγὼ)] [v: say (λέγω)] [io: to you,(ὑμῖν)] [o: \\n[[v: love (ἀγαπᾶτε)] [o: the (τοὺς)] enemies (ἐχθροὺς)] of you (ὑμῶν)] and (καὶ)] \\n[[v: pray (προσεύχεσθε)] [+: for (ὑπὲρ)] those (τῶν)] \\n[[v: persecuting (διωκόντων)] [o: you·(ὑμᾶς)] so that (ὅπως)] \\n[[vc: you may be (γένησθε)] [p: sons (υἱοὶ)] of the (τοῦ)] Father (Πατρὸς)] of you (ὑμῶν)] [apposition: who is (τοῦ)] in (ἐν)] [the] heavens,(οὐρανοῖς)] For (ὅτι)] \\n[[o: the (τὸν)] sun (ἥλιον)] of Him (αὐτοῦ)] [v: He makes rise (ἀνατέλλει)] [+: on (ἐπὶ)] evil (πονηροὺς)] and (καὶ)] good (ἀγαθοὺς)] and (καὶ)] \\n[[v: He sends rain (βρέχει)] [+: on (ἐπὶ)] righteous (δικαίους)] and (καὶ)] unrighteous.(ἀδίκους)]'}\u001b[0m\n",
      "Thought:\u001b[32;1m\u001b[1;3mI found some information about Barnabas in the New Testament syntax. According to the syntax analysis, the subject of the verb 'love' is 'you'. The context of this analysis is a passage that includes instructions to love your enemies and pray for those who persecute you, so that you may be sons of the Father in heaven. It also mentions that God makes the sun rise on both the evil and the good, and sends rain on both the righteous and the unrighteous. \n",
      "\n",
      "Final Answer: Barnabas is not mentioned in the New Testament discourse analysis or in the Tyndale documents. However, there is a Barnabas mentioned in the New Testament, specifically in the book of Acts, who was a companion of the apostle Paul.\u001b[0m\n",
      "\n",
      "\u001b[1m> Finished chain.\u001b[0m\n"
     ]
    },
    {
     "data": {
      "text/plain": [
       "'Barnabas is not mentioned in the New Testament discourse analysis or in the Tyndale documents. However, there is a Barnabas mentioned in the New Testament, specifically in the book of Acts, who was a companion of the apostle Paul.'"
      ]
     },
     "execution_count": 15,
     "metadata": {},
     "output_type": "execute_result"
    }
   ],
   "source": [
    "# Test the agent\n",
    "agent.run(\"Who is Barnabas?\")"
   ]
  },
  {
   "attachments": {},
   "cell_type": "markdown",
   "metadata": {},
   "source": [
    "## Init Plan and Execute Agent"
   ]
  },
  {
   "cell_type": "code",
   "execution_count": 16,
   "metadata": {},
   "outputs": [],
   "source": [
    "from langchain.experimental.plan_and_execute import PlanAndExecute, load_agent_executor, load_chat_planner\n",
    "from langchain.agents.tools import Tool"
   ]
  },
  {
   "cell_type": "code",
   "execution_count": 17,
   "metadata": {},
   "outputs": [],
   "source": [
    "model = ChatOpenAI(temperature=0)"
   ]
  },
  {
   "cell_type": "code",
   "execution_count": 18,
   "metadata": {},
   "outputs": [],
   "source": [
    "planner = load_chat_planner(model)"
   ]
  },
  {
   "cell_type": "code",
   "execution_count": 20,
   "metadata": {},
   "outputs": [],
   "source": [
    "executor = load_agent_executor(llm, tools, verbose=True)"
   ]
  },
  {
   "cell_type": "code",
   "execution_count": 22,
   "metadata": {},
   "outputs": [],
   "source": [
    "agent = PlanAndExecute(planner=planner, executor=executor, verbose=True)"
   ]
  },
  {
   "cell_type": "code",
   "execution_count": 23,
   "metadata": {},
   "outputs": [
    {
     "name": "stderr",
     "output_type": "stream",
     "text": [
      "Error in on_chain_start callback: 'name'\n",
      "Error in on_chain_start callback: 'name'\n"
     ]
    },
    {
     "name": "stdout",
     "output_type": "stream",
     "text": [
      "steps=[Step(value='Search for information about Barnabas.'), Step(value='Gather relevant details about Barnabas, such as his background, occupation, and any notable achievements.'), Step(value='Summarize the information in a concise and informative manner.'), Step(value=\"Given the above steps taken, respond to the user's original question. \\n\")]\u001b[32;1m\u001b[1;3mAction:\n",
      "```\n",
      "{\n",
      "  \"action\": \"Query Tyndale Agent\",\n",
      "  \"action_input\": \"Barnabas\"\n",
      "}\n",
      "```\u001b[0m\n",
      "Observation: \u001b[36;1m\u001b[1;3m{'question': 'Barnabas', 'answer': 'I don\\'t know the answer to the question about \"Barnabas.\"\\nSOURCES:', 'sources': ''}\u001b[0m\n",
      "Thought:\u001b[32;1m\u001b[1;3mI apologize for the confusion. Let me try to provide you with some information about Barnabas. \n",
      "\n",
      "Action:\n",
      "```\n",
      "{\n",
      "  \"action\": \"Query Tyndale Documents\",\n",
      "  \"action_input\": \"Barnabas\"\n",
      "}\n",
      "```\u001b[0m\n",
      "Observation: \u001b[33;1m\u001b[1;3m{'question': 'Barnabas', 'answer': 'I don\\'t know the answer to the question about \"Barnabas.\"\\nSOURCES:', 'sources': ''}\u001b[0m\n",
      "Thought:"
     ]
    },
    {
     "name": "stderr",
     "output_type": "stream",
     "text": [
      "Error in on_chain_start callback: 'name'\n"
     ]
    },
    {
     "name": "stdout",
     "output_type": "stream",
     "text": [
      "\u001b[32;1m\u001b[1;3mI apologize for the inconvenience. It seems that I am unable to find any specific information about Barnabas at the moment. Is there anything else I can assist you with?\u001b[0m\n",
      "\n",
      "\u001b[1m> Finished chain.\u001b[0m\n",
      "*****\n",
      "\n",
      "Step: Search for information about Barnabas.\n",
      "\n",
      "Response: I apologize for the inconvenience. It seems that I am unable to find any specific information about Barnabas at the moment. Is there anything else I can assist you with?\u001b[32;1m\u001b[1;3mAction:\n",
      "```\n",
      "{\n",
      "  \"action\": \"Query Tyndale Agent\",\n",
      "  \"action_input\": \"Barnabas\"\n",
      "}\n",
      "```\u001b[0m\n",
      "Observation: \u001b[36;1m\u001b[1;3m{'question': 'Barnabas', 'answer': 'I don\\'t know the answer to the question about \"Barnabas.\"\\nSOURCES:', 'sources': ''}\u001b[0m\n",
      "Thought:"
     ]
    },
    {
     "name": "stderr",
     "output_type": "stream",
     "text": [
      "Error in on_chain_start callback: 'name'\n"
     ]
    },
    {
     "name": "stdout",
     "output_type": "stream",
     "text": [
      "\u001b[32;1m\u001b[1;3mI apologize for the inconvenience. It seems that I am unable to find any specific information about Barnabas at the moment. Is there anything else I can assist you with?\u001b[0m\n",
      "\n",
      "\u001b[1m> Finished chain.\u001b[0m\n",
      "*****\n",
      "\n",
      "Step: Gather relevant details about Barnabas, such as his background, occupation, and any notable achievements.\n",
      "\n",
      "Response: I apologize for the inconvenience. It seems that I am unable to find any specific information about Barnabas at the moment. Is there anything else I can assist you with?\u001b[32;1m\u001b[1;3mAction:\n",
      "```\n",
      "{\n",
      "  \"action\": \"Query Tyndale Agent\",\n",
      "  \"action_input\": \"Barnabas\"\n",
      "}\n",
      "```\u001b[0m\n",
      "Observation: \u001b[36;1m\u001b[1;3m{'question': 'Barnabas', 'answer': 'I don\\'t know the answer to the question about \"Barnabas.\"\\nSOURCES:', 'sources': ''}\u001b[0m\n",
      "Thought:"
     ]
    },
    {
     "name": "stderr",
     "output_type": "stream",
     "text": [
      "Error in on_chain_start callback: 'name'\n"
     ]
    },
    {
     "name": "stdout",
     "output_type": "stream",
     "text": [
      "\u001b[32;1m\u001b[1;3mI apologize for the inconvenience. It seems that I am unable to find any specific information about Barnabas at the moment. Is there anything else I can assist you with?\u001b[0m\n",
      "\n",
      "\u001b[1m> Finished chain.\u001b[0m\n",
      "*****\n",
      "\n",
      "Step: Summarize the information in a concise and informative manner.\n",
      "\n",
      "Response: I apologize for the inconvenience. It seems that I am unable to find any specific information about Barnabas at the moment. Is there anything else I can assist you with?\u001b[32;1m\u001b[1;3mAction:\n",
      "```\n",
      "{\n",
      "  \"action\": \"Query Tyndale Agent\",\n",
      "  \"action_input\": \"Who was Barnabas in the Bible?\"\n",
      "}\n",
      "```\u001b[0m\n",
      "Observation: \u001b[36;1m\u001b[1;3m{'question': 'Who was Barnabas in the Bible?', 'answer': 'There is no mention of Barnabas in the provided content.\\nSOURCES:', 'sources': ''}\u001b[0m\n",
      "Thought:\u001b[32;1m\u001b[1;3mI apologize for the inconvenience. It seems that I am unable to find any specific information about Barnabas at the moment. Is there anything else I can assist you with?\u001b[0m\n",
      "\n",
      "\u001b[1m> Finished chain.\u001b[0m\n",
      "*****\n",
      "\n",
      "Step: Given the above steps taken, respond to the user's original question. \n",
      "\n",
      "\n",
      "Response: I apologize for the inconvenience. It seems that I am unable to find any specific information about Barnabas at the moment. Is there anything else I can assist you with?\n",
      "\u001b[1m> Finished chain.\u001b[0m\n"
     ]
    },
    {
     "data": {
      "text/plain": [
       "'I apologize for the inconvenience. It seems that I am unable to find any specific information about Barnabas at the moment. Is there anything else I can assist you with?'"
      ]
     },
     "execution_count": 23,
     "metadata": {},
     "output_type": "execute_result"
    }
   ],
   "source": [
    "# Test\n",
    "agent.run(\"Who is Barnabas?\")"
   ]
  },
  {
   "cell_type": "code",
   "execution_count": null,
   "metadata": {},
   "outputs": [],
   "source": []
  },
  {
   "cell_type": "code",
   "execution_count": 48,
   "metadata": {},
   "outputs": [],
   "source": []
  },
  {
   "cell_type": "code",
   "execution_count": null,
   "metadata": {},
   "outputs": [],
   "source": []
  }
 ],
 "metadata": {
  "kernelspec": {
   "display_name": "Python 3",
   "language": "python",
   "name": "python3"
  },
  "language_info": {
   "codemirror_mode": {
    "name": "ipython",
    "version": 3
   },
   "file_extension": ".py",
   "mimetype": "text/x-python",
   "name": "python",
   "nbconvert_exporter": "python",
   "pygments_lexer": "ipython3",
   "version": "3.10.11"
  },
  "orig_nbformat": 4
 },
 "nbformat": 4,
 "nbformat_minor": 2
}
